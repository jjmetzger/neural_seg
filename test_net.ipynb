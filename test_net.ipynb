{
 "cells": [
  {
   "cell_type": "code",
   "execution_count": 10,
   "metadata": {},
   "outputs": [],
   "source": [
    "%matplotlib inline\n",
    "import fc_densenet_torch\n",
    "import torch\n",
    "from skimage.morphology import binary_dilation,disk\n",
    "from torch.autograd import Variable\n",
    "import matplotlib.pyplot as plt\n",
    "from torch.utils.data import Dataset, DataLoader\n",
    "import time\n",
    "from importlib import  reload\n",
    "import run_dense_lumen\n",
    "import numpy as np\n",
    "from matplotlib.pyplot import imshow\n",
    "from glob import glob\n",
    "import tifffile as tiff\n",
    "import pandas as pd\n",
    "from skimage.exposure import equalize_adapthist, equalize_hist\n",
    "from skimage import img_as_float\n",
    "import copy\n",
    "from tqdm import tqdm_notebook\n",
    "import run_dense_lumen\n",
    "from PIL import Image"
   ]
  },
  {
   "cell_type": "code",
   "execution_count": 13,
   "metadata": {},
   "outputs": [],
   "source": [
    "net = fc_densenet_torch.fcdensenet56().cuda()\n",
    "net.load_state_dict(torch.load('../FC-DenseNet/models/56_e1000.pth'))"
   ]
  },
  {
   "cell_type": "code",
   "execution_count": 15,
   "metadata": {},
   "outputs": [],
   "source": [
    "# helper plotting function\n",
    "def plot_lumen(test1, ax):\n",
    "    a1 = test1['image'].numpy()[0,0]\n",
    "   \n",
    "    output_test = net(Variable(test1['image']).cuda(0))\n",
    "    _, predicted = torch.max(output_test.data, 1)\n",
    "    predicted = torch.squeeze(predicted.cpu()).numpy()\n",
    "    predicted_outline = np.logical_xor(predicted, binary_dilation(predicted))\n",
    "#     toplot_predicted = np.ma.masked_where(predicted_outline, a1)\n",
    "\n",
    "    toplot_predicted = a1.copy()\n",
    "    toplot_predicted -= toplot_predicted.min()\n",
    "    toplot_predicted /= toplot_predicted.max()\n",
    "    toplot_predicted = equalize_adapthist(toplot_predicted, clip_limit=0.1)\n",
    "#     toplot_predicted[predicted_outline] = np.NaN\n",
    "    \n",
    "    palette = copy.copy(plt.cm.gray)\n",
    "    palette.set_bad('r', 1.0)\n",
    "#     ax.imshow(toplot_predicted, cmap=palette);\n",
    "    \n",
    "    only_seg = np.ma.masked_where(predicted==0,predicted)\n",
    "    ax.imshow(only_seg, cmap='jet_r')\n",
    "    return toplot_predicted\n",
    "#     ax.axis('off')"
   ]
  },
  {
   "cell_type": "markdown",
   "metadata": {},
   "source": [
    "### show data augmentation"
   ]
  },
  {
   "cell_type": "code",
   "execution_count": 20,
   "metadata": {},
   "outputs": [
    {
     "name": "stdout",
     "output_type": "stream",
     "text": [
      "found 1 files\n",
      "found 1 files\n"
     ]
    }
   ],
   "source": [
    "# trainloader = iter(run_dense_lumen_check.dataloader('/home/jakob/Code/nn/lumen/data/ground_truth_seg/val', batch_size=1, shuffle=False, transform=True))\n",
    "trainloader = run_dense_lumen.LumenDataset('/home/jakob/Code/nn/lumen/data/ground_truth_seg/train/example/', transform=run_dense_lumen.CustomRandomTransform())\n",
    "trainloader_no_transform = run_dense_lumen.LumenDataset('/home/jakob/Code/nn/lumen/data/ground_truth_seg/train/example2/', transform=False)"
   ]
  },
  {
   "cell_type": "code",
   "execution_count": 48,
   "metadata": {},
   "outputs": [
    {
     "name": "stdout",
     "output_type": "stream",
     "text": [
      "found 48 files\n"
     ]
    }
   ],
   "source": [
    "trainloader = run_dense_lumen.LumenDataset('/home/jakob/Code/nn/lumen/data/ground_truth_seg/val', transform=None)"
   ]
  },
  {
   "cell_type": "code",
   "execution_count": 49,
   "metadata": {
    "scrolled": false
   },
   "outputs": [
    {
     "name": "stderr",
     "output_type": "stream",
     "text": [
      "/home/jakob/Code/nn/neural_seg/fc_densenet_torch.py:143: UserWarning: Implicit dimension choice for log_softmax has been deprecated. Change the call to include dim=X as an argument.\n",
      "  return self.logsoftmax(x)\n"
     ]
    },
    {
     "data": {
      "image/png": "[encoded data removed]",
      "text/plain": [
       "<matplotlib.figure.Figure at 0x7fe3d1e7c748>"
      ]
     },
     "metadata": {},
     "output_type": "display_data"
    }
   ],
   "source": [
    "for i1 in range(10):\n",
    "    test1 = trainloader[i1]\n",
    "    a1, a2 = test1['image'].numpy()[0], test1['image_labeled'].numpy()\n",
    "    \n",
    "    a1 -= a1.min()\n",
    "    a1 /= a1.max()\n",
    "#     a1 = equalize_adapthist(a1,clip_limit=0.03)\n",
    "    \n",
    "    output_test = net(Variable(test1['image'].unsqueeze(0)).cuda(0))\n",
    "    _, predicted = torch.max(output_test.data, 1)\n",
    "    predicted = torch.squeeze(predicted).cpu().numpy()\n",
    "\n",
    "    predicted_outline = np.logical_xor(predicted, binary_dilation(predicted, selem=disk(3)))\n",
    "    toplot_predicted = np.ma.masked_where(predicted_outline, a1)\n",
    "    \n",
    "    toplot = a1.copy()\n",
    "    toplot[predicted_outline] = np.NaN\n",
    "    palette = copy.copy(plt.cm.viridis)\n",
    "    palette.set_bad('r', 1.0)\n",
    "    \n",
    "    fig,ax=plt.subplots(1,2, figsize=(4,4))\n",
    "\n",
    "    a3 = np.ma.masked_where(a2==0,a2)\n",
    "#     ax[1].imshow(toplot, cmap='jet_r')\n",
    "    ax[1].imshow(toplot, cmap=palette)\n",
    "    ax[0].imshow(a1, cmap=palette);\n",
    "    # [axi.axis('off') for axi in ax];\n",
    "    [axi.yaxis.set_visible(False) for axi in ax];\n",
    "    [axi.xaxis.set_visible(False) for axi in ax];\n",
    "    fig.tight_layout()\n",
    "    fig.savefig('pics/im{:n}.png'.format(i1), bbox_inches='tight', transparent=True, pad_inches=0)"
   ]
  },
  {
   "cell_type": "code",
   "execution_count": null,
   "metadata": {},
   "outputs": [],
   "source": []
  }
 ],
 "metadata": {
  "anaconda-cloud": {},
  "kernelspec": {
   "display_name": "Python 3",
   "language": "python",
   "name": "python3"
  },
  "language_info": {
   "codemirror_mode": {
    "name": "ipython",
    "version": 3
   },
   "file_extension": ".py",
   "mimetype": "text/x-python",
   "name": "python",
   "nbconvert_exporter": "python",
   "pygments_lexer": "ipython3",
   "version": "3.6.4"
  },
  "latex_envs": {
   "LaTeX_envs_menu_present": true,
   "autocomplete": true,
   "bibliofile": "biblio.bib",
   "cite_by": "apalike",
   "current_citInitial": 1,
   "eqLabelWithNumbers": true,
   "eqNumInitial": 1,
   "hotkeys": {
    "equation": "Ctrl-E",
    "itemize": "Ctrl-I"
   },
   "labels_anchors": false,
   "latex_user_defs": false,
   "report_style_numbering": false,
   "user_envs_cfg": false
  }
 },
 "nbformat": 4,
 "nbformat_minor": 2
}
